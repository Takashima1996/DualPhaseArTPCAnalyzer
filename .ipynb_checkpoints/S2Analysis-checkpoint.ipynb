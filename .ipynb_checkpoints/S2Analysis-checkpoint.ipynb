{
 "cells": [
  {
   "cell_type": "code",
   "execution_count": 1,
   "metadata": {},
   "outputs": [],
   "source": [
    "import numpy as np\n",
    "import pandas as pd\n",
    "import matplotlib.pyplot as plt"
   ]
  },
  {
   "cell_type": "code",
   "execution_count": 287,
   "metadata": {},
   "outputs": [],
   "source": [
    "eye = pd.read_csv(\"S2Number_eye.csv\", header=None)\n",
    "predict = pd.read_csv(\"S2Number_predict3us.csv\", header=None, sep=',')"
   ]
  },
  {
   "cell_type": "code",
   "execution_count": 288,
   "metadata": {},
   "outputs": [
    {
     "name": "stderr",
     "output_type": "stream",
     "text": [
      "/usr/local/lib/python3.7/site-packages/ipykernel_launcher.py:2: UserWarning: Pandas doesn't allow columns to be created via a new attribute name - see https://pandas.pydata.org/pandas-docs/stable/indexing.html#attribute-access\n",
      "  \n"
     ]
    }
   ],
   "source": [
    "predict.columns = ['event', 'predict']\n",
    "eye.colomns = ['S2Number']"
   ]
  },
  {
   "cell_type": "code",
   "execution_count": 289,
   "metadata": {},
   "outputs": [
    {
     "data": {
      "text/html": [
       "<div>\n",
       "<style scoped>\n",
       "    .dataframe tbody tr th:only-of-type {\n",
       "        vertical-align: middle;\n",
       "    }\n",
       "\n",
       "    .dataframe tbody tr th {\n",
       "        vertical-align: top;\n",
       "    }\n",
       "\n",
       "    .dataframe thead th {\n",
       "        text-align: right;\n",
       "    }\n",
       "</style>\n",
       "<table border=\"1\" class=\"dataframe\">\n",
       "  <thead>\n",
       "    <tr style=\"text-align: right;\">\n",
       "      <th></th>\n",
       "      <th>Event</th>\n",
       "      <th>Predict</th>\n",
       "      <th>Eye</th>\n",
       "      <th>icchi</th>\n",
       "    </tr>\n",
       "  </thead>\n",
       "  <tbody>\n",
       "    <tr>\n",
       "      <th>0</th>\n",
       "      <td>0</td>\n",
       "      <td>1.0</td>\n",
       "      <td>1</td>\n",
       "      <td>True</td>\n",
       "    </tr>\n",
       "    <tr>\n",
       "      <th>1</th>\n",
       "      <td>1</td>\n",
       "      <td>2.0</td>\n",
       "      <td>2</td>\n",
       "      <td>True</td>\n",
       "    </tr>\n",
       "    <tr>\n",
       "      <th>2</th>\n",
       "      <td>2</td>\n",
       "      <td>2.0</td>\n",
       "      <td>2</td>\n",
       "      <td>True</td>\n",
       "    </tr>\n",
       "    <tr>\n",
       "      <th>3</th>\n",
       "      <td>3</td>\n",
       "      <td>2.0</td>\n",
       "      <td>2</td>\n",
       "      <td>True</td>\n",
       "    </tr>\n",
       "    <tr>\n",
       "      <th>4</th>\n",
       "      <td>4</td>\n",
       "      <td>1.0</td>\n",
       "      <td>1</td>\n",
       "      <td>True</td>\n",
       "    </tr>\n",
       "  </tbody>\n",
       "</table>\n",
       "</div>"
      ],
      "text/plain": [
       "   Event  Predict  Eye  icchi\n",
       "0      0      1.0    1   True\n",
       "1      1      2.0    2   True\n",
       "2      2      2.0    2   True\n",
       "3      3      2.0    2   True\n",
       "4      4      1.0    1   True"
      ]
     },
     "execution_count": 289,
     "metadata": {},
     "output_type": "execute_result"
    }
   ],
   "source": [
    "merge = pd.concat([predict, eye], axis=1)\n",
    "merge.columns = ['Event', 'Predict', 'Eye']\n",
    "merge['icchi'] = (merge['Predict']==merge['Eye'])\n",
    "merge_dp = merge.dropna(how='any')\n",
    "merge_dp['Predict'].astype(np.int32)\n",
    "merge_dp.head()"
   ]
  },
  {
   "cell_type": "code",
   "execution_count": 301,
   "metadata": {},
   "outputs": [
    {
     "name": "stdout",
     "output_type": "stream",
     "text": [
      "344\n",
      "246\n"
     ]
    }
   ],
   "source": [
    "print(len(merge_dp))\n",
    "print(len(merge_dp['icchi'][merge_dp['icchi']==True]))"
   ]
  },
  {
   "cell_type": "code",
   "execution_count": 302,
   "metadata": {},
   "outputs": [
    {
     "name": "stdout",
     "output_type": "stream",
     "text": [
      "0.7151162790697675\n"
     ]
    }
   ],
   "source": [
    "print(merge_dp['icchi'].sum()/len(merge_dp))"
   ]
  },
  {
   "cell_type": "code",
   "execution_count": 103,
   "metadata": {
    "scrolled": true
   },
   "outputs": [],
   "source": [
    "col_names = ['Event', 'Chi_N', 'y0']\n",
    "for i in range(36):\n",
    "    col_names.append(\"{}\".format(i+1))\n",
    "fitResult = pd.read_csv('BestParameters_1_1.csv', header=None, sep=',',names=col_names)"
   ]
  },
  {
   "cell_type": "code",
   "execution_count": 104,
   "metadata": {},
   "outputs": [],
   "source": [
    "Data = pd.concat([merge, fitResult], axis=1)"
   ]
  },
  {
   "cell_type": "code",
   "execution_count": 105,
   "metadata": {},
   "outputs": [
    {
     "data": {
      "text/html": [
       "<div>\n",
       "<style scoped>\n",
       "    .dataframe tbody tr th:only-of-type {\n",
       "        vertical-align: middle;\n",
       "    }\n",
       "\n",
       "    .dataframe tbody tr th {\n",
       "        vertical-align: top;\n",
       "    }\n",
       "\n",
       "    .dataframe thead th {\n",
       "        text-align: right;\n",
       "    }\n",
       "</style>\n",
       "<table border=\"1\" class=\"dataframe\">\n",
       "  <thead>\n",
       "    <tr style=\"text-align: right;\">\n",
       "      <th></th>\n",
       "      <th>Event</th>\n",
       "      <th>Predict</th>\n",
       "      <th>Eye</th>\n",
       "      <th>icchi</th>\n",
       "      <th>Event</th>\n",
       "      <th>Chi_N</th>\n",
       "      <th>y0</th>\n",
       "      <th>1</th>\n",
       "      <th>2</th>\n",
       "      <th>3</th>\n",
       "      <th>...</th>\n",
       "      <th>27</th>\n",
       "      <th>28</th>\n",
       "      <th>29</th>\n",
       "      <th>30</th>\n",
       "      <th>31</th>\n",
       "      <th>32</th>\n",
       "      <th>33</th>\n",
       "      <th>34</th>\n",
       "      <th>35</th>\n",
       "      <th>36</th>\n",
       "    </tr>\n",
       "  </thead>\n",
       "  <tbody>\n",
       "    <tr>\n",
       "      <th>0</th>\n",
       "      <td>0</td>\n",
       "      <td>1.0</td>\n",
       "      <td>1</td>\n",
       "      <td>True</td>\n",
       "      <td>0</td>\n",
       "      <td>1.47424</td>\n",
       "      <td>-0.436519</td>\n",
       "      <td>633.680</td>\n",
       "      <td>1.284380</td>\n",
       "      <td>48.7656</td>\n",
       "      <td>...</td>\n",
       "      <td>NaN</td>\n",
       "      <td>NaN</td>\n",
       "      <td>NaN</td>\n",
       "      <td>NaN</td>\n",
       "      <td>NaN</td>\n",
       "      <td>NaN</td>\n",
       "      <td>NaN</td>\n",
       "      <td>NaN</td>\n",
       "      <td>NaN</td>\n",
       "      <td>NaN</td>\n",
       "    </tr>\n",
       "    <tr>\n",
       "      <th>1</th>\n",
       "      <td>1</td>\n",
       "      <td>2.0</td>\n",
       "      <td>2</td>\n",
       "      <td>True</td>\n",
       "      <td>1</td>\n",
       "      <td>1.15664</td>\n",
       "      <td>-0.066126</td>\n",
       "      <td>489.579</td>\n",
       "      <td>1.576110</td>\n",
       "      <td>39.8157</td>\n",
       "      <td>...</td>\n",
       "      <td>NaN</td>\n",
       "      <td>NaN</td>\n",
       "      <td>NaN</td>\n",
       "      <td>NaN</td>\n",
       "      <td>NaN</td>\n",
       "      <td>NaN</td>\n",
       "      <td>NaN</td>\n",
       "      <td>NaN</td>\n",
       "      <td>NaN</td>\n",
       "      <td>NaN</td>\n",
       "    </tr>\n",
       "    <tr>\n",
       "      <th>2</th>\n",
       "      <td>2</td>\n",
       "      <td>2.0</td>\n",
       "      <td>2</td>\n",
       "      <td>True</td>\n",
       "      <td>2</td>\n",
       "      <td>1.30955</td>\n",
       "      <td>-0.401442</td>\n",
       "      <td>1229.840</td>\n",
       "      <td>1.804020</td>\n",
       "      <td>39.5681</td>\n",
       "      <td>...</td>\n",
       "      <td>NaN</td>\n",
       "      <td>NaN</td>\n",
       "      <td>NaN</td>\n",
       "      <td>NaN</td>\n",
       "      <td>NaN</td>\n",
       "      <td>NaN</td>\n",
       "      <td>NaN</td>\n",
       "      <td>NaN</td>\n",
       "      <td>NaN</td>\n",
       "      <td>NaN</td>\n",
       "    </tr>\n",
       "    <tr>\n",
       "      <th>3</th>\n",
       "      <td>3</td>\n",
       "      <td>2.0</td>\n",
       "      <td>2</td>\n",
       "      <td>True</td>\n",
       "      <td>3</td>\n",
       "      <td>1.37578</td>\n",
       "      <td>-0.643746</td>\n",
       "      <td>279.243</td>\n",
       "      <td>0.780341</td>\n",
       "      <td>31.3887</td>\n",
       "      <td>...</td>\n",
       "      <td>NaN</td>\n",
       "      <td>NaN</td>\n",
       "      <td>NaN</td>\n",
       "      <td>NaN</td>\n",
       "      <td>NaN</td>\n",
       "      <td>NaN</td>\n",
       "      <td>NaN</td>\n",
       "      <td>NaN</td>\n",
       "      <td>NaN</td>\n",
       "      <td>NaN</td>\n",
       "    </tr>\n",
       "    <tr>\n",
       "      <th>4</th>\n",
       "      <td>4</td>\n",
       "      <td>1.0</td>\n",
       "      <td>1</td>\n",
       "      <td>True</td>\n",
       "      <td>4</td>\n",
       "      <td>1.09900</td>\n",
       "      <td>-0.012238</td>\n",
       "      <td>918.703</td>\n",
       "      <td>2.151900</td>\n",
       "      <td>45.9873</td>\n",
       "      <td>...</td>\n",
       "      <td>NaN</td>\n",
       "      <td>NaN</td>\n",
       "      <td>NaN</td>\n",
       "      <td>NaN</td>\n",
       "      <td>NaN</td>\n",
       "      <td>NaN</td>\n",
       "      <td>NaN</td>\n",
       "      <td>NaN</td>\n",
       "      <td>NaN</td>\n",
       "      <td>NaN</td>\n",
       "    </tr>\n",
       "  </tbody>\n",
       "</table>\n",
       "<p>5 rows × 43 columns</p>\n",
       "</div>"
      ],
      "text/plain": [
       "   Event  Predict  Eye  icchi  Event    Chi_N        y0         1         2  \\\n",
       "0      0      1.0    1   True      0  1.47424 -0.436519   633.680  1.284380   \n",
       "1      1      2.0    2   True      1  1.15664 -0.066126   489.579  1.576110   \n",
       "2      2      2.0    2   True      2  1.30955 -0.401442  1229.840  1.804020   \n",
       "3      3      2.0    2   True      3  1.37578 -0.643746   279.243  0.780341   \n",
       "4      4      1.0    1   True      4  1.09900 -0.012238   918.703  2.151900   \n",
       "\n",
       "         3  ...  27  28  29  30  31  32  33  34  35  36  \n",
       "0  48.7656  ... NaN NaN NaN NaN NaN NaN NaN NaN NaN NaN  \n",
       "1  39.8157  ... NaN NaN NaN NaN NaN NaN NaN NaN NaN NaN  \n",
       "2  39.5681  ... NaN NaN NaN NaN NaN NaN NaN NaN NaN NaN  \n",
       "3  31.3887  ... NaN NaN NaN NaN NaN NaN NaN NaN NaN NaN  \n",
       "4  45.9873  ... NaN NaN NaN NaN NaN NaN NaN NaN NaN NaN  \n",
       "\n",
       "[5 rows x 43 columns]"
      ]
     },
     "execution_count": 105,
     "metadata": {},
     "output_type": "execute_result"
    }
   ],
   "source": [
    "Data.head()"
   ]
  },
  {
   "cell_type": "code",
   "execution_count": 132,
   "metadata": {},
   "outputs": [],
   "source": [
    "Data_dp['Predict'].astype(np.int32)\n",
    "Data_dp = Data.dropna(subset=['y0'])\n",
    "Data_dp = Data_dp.drop('Event', axis=1)"
   ]
  },
  {
   "cell_type": "code",
   "execution_count": 133,
   "metadata": {},
   "outputs": [
    {
     "data": {
      "text/html": [
       "<div>\n",
       "<style scoped>\n",
       "    .dataframe tbody tr th:only-of-type {\n",
       "        vertical-align: middle;\n",
       "    }\n",
       "\n",
       "    .dataframe tbody tr th {\n",
       "        vertical-align: top;\n",
       "    }\n",
       "\n",
       "    .dataframe thead th {\n",
       "        text-align: right;\n",
       "    }\n",
       "</style>\n",
       "<table border=\"1\" class=\"dataframe\">\n",
       "  <thead>\n",
       "    <tr style=\"text-align: right;\">\n",
       "      <th></th>\n",
       "      <th>Predict</th>\n",
       "      <th>Eye</th>\n",
       "      <th>icchi</th>\n",
       "      <th>Chi_N</th>\n",
       "      <th>y0</th>\n",
       "      <th>1</th>\n",
       "      <th>2</th>\n",
       "      <th>3</th>\n",
       "      <th>4</th>\n",
       "      <th>5</th>\n",
       "      <th>...</th>\n",
       "      <th>27</th>\n",
       "      <th>28</th>\n",
       "      <th>29</th>\n",
       "      <th>30</th>\n",
       "      <th>31</th>\n",
       "      <th>32</th>\n",
       "      <th>33</th>\n",
       "      <th>34</th>\n",
       "      <th>35</th>\n",
       "      <th>36</th>\n",
       "    </tr>\n",
       "  </thead>\n",
       "  <tbody>\n",
       "    <tr>\n",
       "      <th>0</th>\n",
       "      <td>1.0</td>\n",
       "      <td>1</td>\n",
       "      <td>True</td>\n",
       "      <td>1.47424</td>\n",
       "      <td>-0.436519</td>\n",
       "      <td>633.680</td>\n",
       "      <td>1.284380</td>\n",
       "      <td>48.7656</td>\n",
       "      <td>0.3</td>\n",
       "      <td>0.011</td>\n",
       "      <td>...</td>\n",
       "      <td>NaN</td>\n",
       "      <td>NaN</td>\n",
       "      <td>NaN</td>\n",
       "      <td>NaN</td>\n",
       "      <td>NaN</td>\n",
       "      <td>NaN</td>\n",
       "      <td>NaN</td>\n",
       "      <td>NaN</td>\n",
       "      <td>NaN</td>\n",
       "      <td>NaN</td>\n",
       "    </tr>\n",
       "    <tr>\n",
       "      <th>1</th>\n",
       "      <td>2.0</td>\n",
       "      <td>2</td>\n",
       "      <td>True</td>\n",
       "      <td>1.15664</td>\n",
       "      <td>-0.066126</td>\n",
       "      <td>489.579</td>\n",
       "      <td>1.576110</td>\n",
       "      <td>39.8157</td>\n",
       "      <td>0.3</td>\n",
       "      <td>0.011</td>\n",
       "      <td>...</td>\n",
       "      <td>NaN</td>\n",
       "      <td>NaN</td>\n",
       "      <td>NaN</td>\n",
       "      <td>NaN</td>\n",
       "      <td>NaN</td>\n",
       "      <td>NaN</td>\n",
       "      <td>NaN</td>\n",
       "      <td>NaN</td>\n",
       "      <td>NaN</td>\n",
       "      <td>NaN</td>\n",
       "    </tr>\n",
       "    <tr>\n",
       "      <th>2</th>\n",
       "      <td>2.0</td>\n",
       "      <td>2</td>\n",
       "      <td>True</td>\n",
       "      <td>1.30955</td>\n",
       "      <td>-0.401442</td>\n",
       "      <td>1229.840</td>\n",
       "      <td>1.804020</td>\n",
       "      <td>39.5681</td>\n",
       "      <td>0.3</td>\n",
       "      <td>0.011</td>\n",
       "      <td>...</td>\n",
       "      <td>NaN</td>\n",
       "      <td>NaN</td>\n",
       "      <td>NaN</td>\n",
       "      <td>NaN</td>\n",
       "      <td>NaN</td>\n",
       "      <td>NaN</td>\n",
       "      <td>NaN</td>\n",
       "      <td>NaN</td>\n",
       "      <td>NaN</td>\n",
       "      <td>NaN</td>\n",
       "    </tr>\n",
       "    <tr>\n",
       "      <th>3</th>\n",
       "      <td>2.0</td>\n",
       "      <td>2</td>\n",
       "      <td>True</td>\n",
       "      <td>1.37578</td>\n",
       "      <td>-0.643746</td>\n",
       "      <td>279.243</td>\n",
       "      <td>0.780341</td>\n",
       "      <td>31.3887</td>\n",
       "      <td>0.3</td>\n",
       "      <td>0.011</td>\n",
       "      <td>...</td>\n",
       "      <td>NaN</td>\n",
       "      <td>NaN</td>\n",
       "      <td>NaN</td>\n",
       "      <td>NaN</td>\n",
       "      <td>NaN</td>\n",
       "      <td>NaN</td>\n",
       "      <td>NaN</td>\n",
       "      <td>NaN</td>\n",
       "      <td>NaN</td>\n",
       "      <td>NaN</td>\n",
       "    </tr>\n",
       "    <tr>\n",
       "      <th>4</th>\n",
       "      <td>1.0</td>\n",
       "      <td>1</td>\n",
       "      <td>True</td>\n",
       "      <td>1.09900</td>\n",
       "      <td>-0.012238</td>\n",
       "      <td>918.703</td>\n",
       "      <td>2.151900</td>\n",
       "      <td>45.9873</td>\n",
       "      <td>0.3</td>\n",
       "      <td>0.011</td>\n",
       "      <td>...</td>\n",
       "      <td>NaN</td>\n",
       "      <td>NaN</td>\n",
       "      <td>NaN</td>\n",
       "      <td>NaN</td>\n",
       "      <td>NaN</td>\n",
       "      <td>NaN</td>\n",
       "      <td>NaN</td>\n",
       "      <td>NaN</td>\n",
       "      <td>NaN</td>\n",
       "      <td>NaN</td>\n",
       "    </tr>\n",
       "  </tbody>\n",
       "</table>\n",
       "<p>5 rows × 41 columns</p>\n",
       "</div>"
      ],
      "text/plain": [
       "   Predict  Eye  icchi    Chi_N        y0         1         2        3    4  \\\n",
       "0      1.0    1   True  1.47424 -0.436519   633.680  1.284380  48.7656  0.3   \n",
       "1      2.0    2   True  1.15664 -0.066126   489.579  1.576110  39.8157  0.3   \n",
       "2      2.0    2   True  1.30955 -0.401442  1229.840  1.804020  39.5681  0.3   \n",
       "3      2.0    2   True  1.37578 -0.643746   279.243  0.780341  31.3887  0.3   \n",
       "4      1.0    1   True  1.09900 -0.012238   918.703  2.151900  45.9873  0.3   \n",
       "\n",
       "       5  ...  27  28  29  30  31  32  33  34  35  36  \n",
       "0  0.011  ... NaN NaN NaN NaN NaN NaN NaN NaN NaN NaN  \n",
       "1  0.011  ... NaN NaN NaN NaN NaN NaN NaN NaN NaN NaN  \n",
       "2  0.011  ... NaN NaN NaN NaN NaN NaN NaN NaN NaN NaN  \n",
       "3  0.011  ... NaN NaN NaN NaN NaN NaN NaN NaN NaN NaN  \n",
       "4  0.011  ... NaN NaN NaN NaN NaN NaN NaN NaN NaN NaN  \n",
       "\n",
       "[5 rows x 41 columns]"
      ]
     },
     "execution_count": 133,
     "metadata": {},
     "output_type": "execute_result"
    }
   ],
   "source": [
    "Data_dp.head()"
   ]
  },
  {
   "cell_type": "code",
   "execution_count": 136,
   "metadata": {},
   "outputs": [
    {
     "name": "stdout",
     "output_type": "stream",
     "text": [
      "0.75\n"
     ]
    }
   ],
   "source": [
    "print(Data_dp['icchi'].sum()/len(Data_dp)"
   ]
  },
  {
   "cell_type": "code",
   "execution_count": 162,
   "metadata": {},
   "outputs": [
    {
     "data": {
      "text/plain": [
       "<matplotlib.axes._subplots.AxesSubplot at 0x10fb73690>"
      ]
     },
     "execution_count": 162,
     "metadata": {},
     "output_type": "execute_result"
    },
    {
     "data": {
      "image/png": "[encoded data removed]",
      "text/plain": [
       "<Figure size 432x288 with 1 Axes>"
      ]
     },
     "metadata": {
      "needs_background": "light"
     },
     "output_type": "display_data"
    }
   ],
   "source": [
    "t01 = Data_dp['3'].dropna()\n",
    "t02 = Data_dp['12'].dropna()\n",
    "t03 = Data_dp['21'].dropna()\n",
    "t04 = Data_dp['30'].dropna()\n",
    "t0 = pd.concat([t01, t02, t03, t04])\n",
    "t0.hist(range=(0,100), bins=50)"
   ]
  },
  {
   "cell_type": "code",
   "execution_count": 142,
   "metadata": {},
   "outputs": [
    {
     "data": {
      "text/plain": [
       "<matplotlib.axes._subplots.AxesSubplot at 0x10f4c3350>"
      ]
     },
     "execution_count": 142,
     "metadata": {},
     "output_type": "execute_result"
    },
    {
     "data": {
      "image/png": "[encoded data removed]",
      "text/plain": [
       "<Figure size 432x288 with 1 Axes>"
      ]
     },
     "metadata": {
      "needs_background": "light"
     },
     "output_type": "display_data"
    }
   ],
   "source": [
    "Data_dp['Chi_N'].hist(range=(0.5, 6.0), bins=55)"
   ]
  },
  {
   "cell_type": "code",
   "execution_count": 139,
   "metadata": {},
   "outputs": [
    {
     "data": {
      "text/plain": [
       "<matplotlib.axes._subplots.AxesSubplot at 0x10f15d110>"
      ]
     },
     "execution_count": 139,
     "metadata": {},
     "output_type": "execute_result"
    },
    {
     "data": {
      "image/png": "[encoded data removed]",
      "text/plain": [
       "<Figure size 432x288 with 1 Axes>"
      ]
     },
     "metadata": {
      "needs_background": "light"
     },
     "output_type": "display_data"
    }
   ],
   "source": [
    "Data_dp['Predict'][Data_dp['Chi_N']<1.8].hist()"
   ]
  },
  {
   "cell_type": "code",
   "execution_count": 174,
   "metadata": {},
   "outputs": [
    {
     "data": {
      "text/plain": [
       "0.9425675675675675"
      ]
     },
     "execution_count": 174,
     "metadata": {},
     "output_type": "execute_result"
    }
   ],
   "source": [
    "len(Data_dp['icchi'][Data_dp['Chi_N']<2.5])/len(Data_dp['icchi'])"
   ]
  },
  {
   "cell_type": "code",
   "execution_count": 308,
   "metadata": {},
   "outputs": [
    {
     "name": "stdout",
     "output_type": "stream",
     "text": [
      "180\n"
     ]
    }
   ],
   "source": [
    "print(len(Data_dp['Chi_N'][(Data_dp['icchi']==True)&(Data_dp['Chi_N']<1.5)]))"
   ]
  },
  {
   "cell_type": "code",
   "execution_count": 305,
   "metadata": {},
   "outputs": [
    {
     "name": "stdout",
     "output_type": "stream",
     "text": [
      "0.8035714285714286\n"
     ]
    }
   ],
   "source": [
    "print(len(Data_dp['Chi_N'][(Data_dp['icchi']==True)&(Data_dp['Chi_N']<1.5)])/len(Data_dp[Data_dp['Chi_N']<1.5]))"
   ]
  },
  {
   "cell_type": "code",
   "execution_count": 377,
   "metadata": {},
   "outputs": [],
   "source": [
    "FitResult1_1 = pd.read_csv('BestParameters_1_1.csv', header=None, names=col_names)\n",
    "FitResult2_3 = pd.read_csv('BestParameters_2_3.csv', header=None, names=col_names)\n",
    "FitResult4_10 = pd.read_csv('BestParameters_4_10.csv', header=None, names=col_names)\n",
    "FitResult11_30 = pd.read_csv('BestParameters_11_30.csv', header=None, names=col_names)\n",
    "FitResult31_50 = pd.read_csv('BestParameters_31_50.csv', header=None, names=col_names)"
   ]
  },
  {
   "cell_type": "code",
   "execution_count": 378,
   "metadata": {},
   "outputs": [],
   "source": [
    "FitResult = pd.concat([FitResult1_1, FitResult2_3, FitResult4_10, FitResult11_30, FitResult31_50])\n",
    "FitResult['S2Number'] = ((FitResult.count(axis=1) - 3) // 9).astype(np.int32)"
   ]
  },
  {
   "cell_type": "code",
   "execution_count": 379,
   "metadata": {},
   "outputs": [
    {
     "data": {
      "text/html": [
       "<div>\n",
       "<style scoped>\n",
       "    .dataframe tbody tr th:only-of-type {\n",
       "        vertical-align: middle;\n",
       "    }\n",
       "\n",
       "    .dataframe tbody tr th {\n",
       "        vertical-align: top;\n",
       "    }\n",
       "\n",
       "    .dataframe thead th {\n",
       "        text-align: right;\n",
       "    }\n",
       "</style>\n",
       "<table border=\"1\" class=\"dataframe\">\n",
       "  <thead>\n",
       "    <tr style=\"text-align: right;\">\n",
       "      <th></th>\n",
       "      <th>Event</th>\n",
       "      <th>Chi_N</th>\n",
       "      <th>y0</th>\n",
       "      <th>1</th>\n",
       "      <th>2</th>\n",
       "      <th>3</th>\n",
       "      <th>4</th>\n",
       "      <th>5</th>\n",
       "      <th>6</th>\n",
       "      <th>7</th>\n",
       "      <th>...</th>\n",
       "      <th>28</th>\n",
       "      <th>29</th>\n",
       "      <th>30</th>\n",
       "      <th>31</th>\n",
       "      <th>32</th>\n",
       "      <th>33</th>\n",
       "      <th>34</th>\n",
       "      <th>35</th>\n",
       "      <th>36</th>\n",
       "      <th>S2Number</th>\n",
       "    </tr>\n",
       "  </thead>\n",
       "  <tbody>\n",
       "    <tr>\n",
       "      <th>0</th>\n",
       "      <td>0</td>\n",
       "      <td>1.47424</td>\n",
       "      <td>-0.436519</td>\n",
       "      <td>633.680</td>\n",
       "      <td>1.284380</td>\n",
       "      <td>48.7656</td>\n",
       "      <td>0.3</td>\n",
       "      <td>0.011</td>\n",
       "      <td>0.176053</td>\n",
       "      <td>3.151</td>\n",
       "      <td>...</td>\n",
       "      <td>NaN</td>\n",
       "      <td>NaN</td>\n",
       "      <td>NaN</td>\n",
       "      <td>NaN</td>\n",
       "      <td>NaN</td>\n",
       "      <td>NaN</td>\n",
       "      <td>NaN</td>\n",
       "      <td>NaN</td>\n",
       "      <td>NaN</td>\n",
       "      <td>1</td>\n",
       "    </tr>\n",
       "    <tr>\n",
       "      <th>1</th>\n",
       "      <td>1</td>\n",
       "      <td>1.15664</td>\n",
       "      <td>-0.066126</td>\n",
       "      <td>489.579</td>\n",
       "      <td>1.576110</td>\n",
       "      <td>39.8157</td>\n",
       "      <td>0.3</td>\n",
       "      <td>0.011</td>\n",
       "      <td>0.127276</td>\n",
       "      <td>3.151</td>\n",
       "      <td>...</td>\n",
       "      <td>NaN</td>\n",
       "      <td>NaN</td>\n",
       "      <td>NaN</td>\n",
       "      <td>NaN</td>\n",
       "      <td>NaN</td>\n",
       "      <td>NaN</td>\n",
       "      <td>NaN</td>\n",
       "      <td>NaN</td>\n",
       "      <td>NaN</td>\n",
       "      <td>2</td>\n",
       "    </tr>\n",
       "    <tr>\n",
       "      <th>2</th>\n",
       "      <td>2</td>\n",
       "      <td>1.30955</td>\n",
       "      <td>-0.401442</td>\n",
       "      <td>1229.840</td>\n",
       "      <td>1.804020</td>\n",
       "      <td>39.5681</td>\n",
       "      <td>0.3</td>\n",
       "      <td>0.011</td>\n",
       "      <td>0.081273</td>\n",
       "      <td>3.151</td>\n",
       "      <td>...</td>\n",
       "      <td>NaN</td>\n",
       "      <td>NaN</td>\n",
       "      <td>NaN</td>\n",
       "      <td>NaN</td>\n",
       "      <td>NaN</td>\n",
       "      <td>NaN</td>\n",
       "      <td>NaN</td>\n",
       "      <td>NaN</td>\n",
       "      <td>NaN</td>\n",
       "      <td>2</td>\n",
       "    </tr>\n",
       "    <tr>\n",
       "      <th>3</th>\n",
       "      <td>3</td>\n",
       "      <td>1.37578</td>\n",
       "      <td>-0.643746</td>\n",
       "      <td>279.243</td>\n",
       "      <td>0.780341</td>\n",
       "      <td>31.3887</td>\n",
       "      <td>0.3</td>\n",
       "      <td>0.011</td>\n",
       "      <td>0.094401</td>\n",
       "      <td>3.151</td>\n",
       "      <td>...</td>\n",
       "      <td>NaN</td>\n",
       "      <td>NaN</td>\n",
       "      <td>NaN</td>\n",
       "      <td>NaN</td>\n",
       "      <td>NaN</td>\n",
       "      <td>NaN</td>\n",
       "      <td>NaN</td>\n",
       "      <td>NaN</td>\n",
       "      <td>NaN</td>\n",
       "      <td>2</td>\n",
       "    </tr>\n",
       "    <tr>\n",
       "      <th>4</th>\n",
       "      <td>4</td>\n",
       "      <td>1.09900</td>\n",
       "      <td>-0.012238</td>\n",
       "      <td>918.703</td>\n",
       "      <td>2.151900</td>\n",
       "      <td>45.9873</td>\n",
       "      <td>0.3</td>\n",
       "      <td>0.011</td>\n",
       "      <td>0.041931</td>\n",
       "      <td>3.151</td>\n",
       "      <td>...</td>\n",
       "      <td>NaN</td>\n",
       "      <td>NaN</td>\n",
       "      <td>NaN</td>\n",
       "      <td>NaN</td>\n",
       "      <td>NaN</td>\n",
       "      <td>NaN</td>\n",
       "      <td>NaN</td>\n",
       "      <td>NaN</td>\n",
       "      <td>NaN</td>\n",
       "      <td>1</td>\n",
       "    </tr>\n",
       "  </tbody>\n",
       "</table>\n",
       "<p>5 rows × 40 columns</p>\n",
       "</div>"
      ],
      "text/plain": [
       "   Event    Chi_N        y0         1         2        3    4      5  \\\n",
       "0      0  1.47424 -0.436519   633.680  1.284380  48.7656  0.3  0.011   \n",
       "1      1  1.15664 -0.066126   489.579  1.576110  39.8157  0.3  0.011   \n",
       "2      2  1.30955 -0.401442  1229.840  1.804020  39.5681  0.3  0.011   \n",
       "3      3  1.37578 -0.643746   279.243  0.780341  31.3887  0.3  0.011   \n",
       "4      4  1.09900 -0.012238   918.703  2.151900  45.9873  0.3  0.011   \n",
       "\n",
       "          6      7  ...  28  29  30  31  32  33  34  35  36  S2Number  \n",
       "0  0.176053  3.151  ... NaN NaN NaN NaN NaN NaN NaN NaN NaN         1  \n",
       "1  0.127276  3.151  ... NaN NaN NaN NaN NaN NaN NaN NaN NaN         2  \n",
       "2  0.081273  3.151  ... NaN NaN NaN NaN NaN NaN NaN NaN NaN         2  \n",
       "3  0.094401  3.151  ... NaN NaN NaN NaN NaN NaN NaN NaN NaN         2  \n",
       "4  0.041931  3.151  ... NaN NaN NaN NaN NaN NaN NaN NaN NaN         1  \n",
       "\n",
       "[5 rows x 40 columns]"
      ]
     },
     "execution_count": 379,
     "metadata": {},
     "output_type": "execute_result"
    }
   ],
   "source": [
    "FitResult.head()"
   ]
  },
  {
   "cell_type": "code",
   "execution_count": 383,
   "metadata": {},
   "outputs": [
    {
     "name": "stdout",
     "output_type": "stream",
     "text": [
      "12211\n",
      "20000\n"
     ]
    },
    {
     "data": {
      "image/png": "[encoded data removed]",
      "text/plain": [
       "<Figure size 432x288 with 1 Axes>"
      ]
     },
     "metadata": {
      "needs_background": "light"
     },
     "output_type": "display_data"
    }
   ],
   "source": [
    "Chi_cutoff = 1.7\n",
    "FitResult['S2Number'][FitResult['Chi_N']<Chi_cutoff].hist(grid=False)\n",
    "plt.title(\"S2 Number (Chi2/NDF<{})\".format(Chi_cutoff))\n",
    "plt.xlabel('S2 Number')\n",
    "plt.ylabel('Count')\n",
    "plt.ylim(0,7000)\n",
    "print(len(FitResult['S2Number'][FitResult['Chi_N']<Chi_cutoff]))\n",
    "print(len(FitResult['S2Number']))"
   ]
  },
  {
   "cell_type": "code",
   "execution_count": 384,
   "metadata": {},
   "outputs": [
    {
     "data": {
      "text/plain": [
       "7398"
      ]
     },
     "execution_count": 384,
     "metadata": {},
     "output_type": "execute_result"
    }
   ],
   "source": [
    "len(FitResult['S2Number'][(FitResult['Chi_N']<10000)&(FitResult['S2Number']==1)])"
   ]
  },
  {
   "cell_type": "code",
   "execution_count": 388,
   "metadata": {},
   "outputs": [
    {
     "name": "stdout",
     "output_type": "stream",
     "text": [
      "12211\n",
      "20000\n"
     ]
    },
    {
     "data": {
      "image/png": "[encoded data removed]",
      "text/plain": [
       "<Figure size 432x288 with 1 Axes>"
      ]
     },
     "metadata": {
      "needs_background": "light"
     },
     "output_type": "display_data"
    }
   ],
   "source": [
    "fig, ax = plt.subplots()\n",
    "ax.hist(FitResult['S2Number'][FitResult['Chi_N']<10000],label='$\\chi^2$/NDF<10000')\n",
    "ax.hist(FitResult['S2Number'][FitResult['Chi_N']<1.7], label='$\\chi^2$/NDF<1.7')\n",
    "ax.hist(FitResult['S2Number'][FitResult['Chi_N']<1.5], label='$\\chi^2$/NDF<1.5')\n",
    "u = np.array( [4339, 1356,699, 381])\n",
    "ax.hist(FitResult['S2Number'][FitResult['Chi_N']<1.3], label='$\\chi^2$/NDF<1.3')\n",
    "#plt.hist([4339, 1356,699, 381])\n",
    "ax.legend()\n",
    "#plt.hist([FitResult['S2Number'][FitResult['Chi_N']<Chi_cutoff], )\n",
    "#ax.title(\"S2 Number\")\n",
    "ax.set_xlabel('S2 Number')\n",
    "ax.set_ylabel('Count')\n",
    "ax.set_ylim(0,8000)\n",
    "print(len(FitResult['S2Number'][FitResult['Chi_N']<Chi_cutoff]))\n",
    "print(len(FitResult['S2Number']))"
   ]
  },
  {
   "cell_type": "code",
   "execution_count": 351,
   "metadata": {},
   "outputs": [
    {
     "name": "stdout",
     "output_type": "stream",
     "text": [
      "4170\n"
     ]
    }
   ],
   "source": [
    "print(len(np.array(FitResult['S2Number'][FitResult['Chi_N']<1.3])))"
   ]
  },
  {
   "cell_type": "code",
   "execution_count": 389,
   "metadata": {},
   "outputs": [
    {
     "name": "stdout",
     "output_type": "stream",
     "text": [
      "20000\n"
     ]
    },
    {
     "data": {
      "image/png": "[encoded data removed]",
      "text/plain": [
       "<Figure size 432x288 with 1 Axes>"
      ]
     },
     "metadata": {
      "needs_background": "light"
     },
     "output_type": "display_data"
    }
   ],
   "source": [
    "FitResult['Chi_N'].hist(bins=100, range=(0,5))\n",
    "plt.xlabel('$\\chi^2$/NDF')\n",
    "plt.ylabel('Count')\n",
    "print(len(FitResult['Chi_N']))"
   ]
  },
  {
   "cell_type": "code",
   "execution_count": 390,
   "metadata": {},
   "outputs": [
    {
     "data": {
      "text/plain": [
       "Text(0, 0.5, 'Count')"
      ]
     },
     "execution_count": 390,
     "metadata": {},
     "output_type": "execute_result"
    },
    {
     "data": {
      "image/png": "[encoded data removed]",
      "text/plain": [
       "<Figure size 432x288 with 1 Axes>"
      ]
     },
     "metadata": {
      "needs_background": "light"
     },
     "output_type": "display_data"
    }
   ],
   "source": [
    "Chi_cutoff = 1.5\n",
    "t01 = (FitResult['3'][FitResult['Chi_N']<Chi_cutoff]).dropna()\n",
    "t02 = (FitResult['12'][FitResult['Chi_N']<Chi_cutoff]).dropna()\n",
    "t03 = (FitResult['21'][FitResult['Chi_N']<Chi_cutoff]).dropna()\n",
    "t04 = (FitResult['30'][FitResult['Chi_N']<Chi_cutoff]).dropna()\n",
    "\n",
    "t0 = pd.concat([t01,t02,t03,t04])\n",
    "t0.hist(grid=False, range=(-5,120), bins=125)\n",
    "plt.title(\"S2 drift time (Chi2/NDF<{})\".format(Chi_cutoff))\n",
    "plt.xlabel('Drift time[$\\mu$s]')\n",
    "plt.ylabel('Count')"
   ]
  },
  {
   "cell_type": "code",
   "execution_count": 400,
   "metadata": {},
   "outputs": [
    {
     "data": {
      "text/plain": [
       "Text(0, 0.5, 'Count')"
      ]
     },
     "execution_count": 400,
     "metadata": {},
     "output_type": "execute_result"
    },
    {
     "data": {
      "image/png": "[encoded data removed]",
      "text/plain": [
       "<Figure size 432x288 with 1 Axes>"
      ]
     },
     "metadata": {
      "needs_background": "light"
     },
     "output_type": "display_data"
    }
   ],
   "source": [
    "Chi_cutoff = 1.5\n",
    "t01 = (FitResult['3'][(FitResult['Chi_N']<Chi_cutoff)&(FitResult['S2Number']==1)]).dropna()\n",
    "\n",
    "t01.hist(grid=False, range=(-5,120), bins=125)\n",
    "plt.title(\"S2 drift time (Chi2/NDF<{})\".format(Chi_cutoff))\n",
    "plt.xlabel('Drift time[$\\mu$s]')\n",
    "plt.ylabel('Count')"
   ]
  },
  {
   "cell_type": "code",
   "execution_count": 404,
   "metadata": {},
   "outputs": [
    {
     "data": {
      "text/plain": [
       "Text(0, 0.5, 'Count')"
      ]
     },
     "execution_count": 404,
     "metadata": {},
     "output_type": "execute_result"
    },
    {
     "data": {
      "image/png": "[encoded data removed]",
      "text/plain": [
       "<Figure size 432x288 with 1 Axes>"
      ]
     },
     "metadata": {
      "needs_background": "light"
     },
     "output_type": "display_data"
    }
   ],
   "source": [
    "Chi_cutoff = 1.7\n",
    "A1 = (FitResult['1'][FitResult['Chi_N']<Chi_cutoff]).dropna()\n",
    "                    #(FitResult['3']>45.0)&(FitResult['3']<55.0)]).dropna()\n",
    "#A2 = (FitResult['10'][FitResult['Chi_N']<Chi_cutoff]).dropna()\n",
    "#A3 = (FitResult['19'][FitResult['Chi_N']<Chi_cutoff]).dropna()\n",
    "#A4 = (FitResult['28'][FitResult['Chi_N']<Chi_cutoff]).dropna()\n",
    "\n",
    "A = pd.concat([A1, A2, A3, A4])\n",
    "A.hist(grid=False, range=(0,2000), bins=80)\n",
    "plt.title(\"A (Chi2/NDF<{})\".format(Chi_cutoff))\n",
    "plt.xlabel('A')\n",
    "plt.ylabel('Count')"
   ]
  },
  {
   "cell_type": "code",
   "execution_count": 393,
   "metadata": {},
   "outputs": [
    {
     "data": {
      "text/plain": [
       "Text(0, 0.5, 'Count')"
      ]
     },
     "execution_count": 393,
     "metadata": {},
     "output_type": "execute_result"
    },
    {
     "data": {
      "image/png": "[encoded data removed]",
      "text/plain": [
       "<Figure size 432x288 with 1 Axes>"
      ]
     },
     "metadata": {
      "needs_background": "light"
     },
     "output_type": "display_data"
    }
   ],
   "source": [
    "Chi_cutoff = 2.0\n",
    "T1 = (FitResult['2'][FitResult['Chi_N']<Chi_cutoff]).dropna()\n",
    "T2 = (FitResult['11'][FitResult['Chi_N']<Chi_cutoff]).dropna()\n",
    "T3 = (FitResult['20'][FitResult['Chi_N']<Chi_cutoff]).dropna()\n",
    "T4 = (FitResult['29'][FitResult['Chi_N']<Chi_cutoff]).dropna()\n",
    "\n",
    "T= pd.concat([T1, T2, T3, T4])\n",
    "T.hist(grid=False, range=(0.1,5.1) ,bins=100)\n",
    "plt.title(\"T (Chi2/NDF<{})\".format(Chi_cutoff))\n",
    "plt.xlabel('T[$\\mu$s]')\n",
    "plt.ylabel('Count')"
   ]
  },
  {
   "cell_type": "code",
   "execution_count": 394,
   "metadata": {},
   "outputs": [
    {
     "data": {
      "text/plain": [
       "Text(0, 0.5, 'Count')"
      ]
     },
     "execution_count": 394,
     "metadata": {},
     "output_type": "execute_result"
    },
    {
     "data": {
      "image/png": "[encoded data removed]",
      "text/plain": [
       "<Figure size 432x288 with 1 Axes>"
      ]
     },
     "metadata": {
      "needs_background": "light"
     },
     "output_type": "display_data"
    }
   ],
   "source": [
    "Chi_cutoff = 1.5\n",
    "p1 = (FitResult['6'][FitResult['Chi_N']<Chi_cutoff]).dropna()\n",
    "p2 = (FitResult['15'][FitResult['Chi_N']<Chi_cutoff]).dropna()\n",
    "p3 = (FitResult['24'][FitResult['Chi_N']<Chi_cutoff]).dropna()\n",
    "p4 = (FitResult['33'][FitResult['Chi_N']<Chi_cutoff]).dropna()\n",
    "\n",
    "p= pd.concat([p1, p2, p3, p4])\n",
    "T.hist(grid=False, range=(0.0,1.0) ,bins=100)\n",
    "plt.title(\"p (Chi2/NDF<{})\".format(Chi_cutoff))\n",
    "plt.xlabel('p')\n",
    "plt.ylabel('Count')"
   ]
  },
  {
   "cell_type": "code",
   "execution_count": null,
   "metadata": {},
   "outputs": [],
   "source": []
  }
 ],
 "metadata": {
  "kernelspec": {
   "display_name": "Python 3",
   "language": "python",
   "name": "python3"
  },
  "language_info": {
   "codemirror_mode": {
    "name": "ipython",
    "version": 3
   },
   "file_extension": ".py",
   "mimetype": "text/x-python",
   "name": "python",
   "nbconvert_exporter": "python",
   "pygments_lexer": "ipython3",
   "version": "3.7.4"
  }
 },
 "nbformat": 4,
 "nbformat_minor": 2
}
